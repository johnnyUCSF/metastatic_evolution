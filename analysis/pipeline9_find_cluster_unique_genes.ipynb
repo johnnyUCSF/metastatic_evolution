{
 "cells": [
  {
   "cell_type": "code",
   "execution_count": 1,
   "metadata": {
    "collapsed": true
   },
   "outputs": [],
   "source": [
    "import pandas as pd\n",
    "import os \n",
    "import numpy as np\n",
    "import scipy as sp\n",
    "import matplotlib.pyplot as plt\n",
    "import scipy.stats as stats\n",
    "import Bio\n",
    "import rpy2\n",
    "%load_ext rpy2.ipython\n",
    "%matplotlib inline"
   ]
  },
  {
   "cell_type": "code",
   "execution_count": 2,
   "metadata": {},
   "outputs": [
    {
     "name": "stderr",
     "output_type": "stream",
     "text": [
      "/home/johnny/anaconda2/lib/python2.7/site-packages/ipykernel_launcher.py:38: RuntimeWarning: divide by zero encountered in log2\n"
     ]
    }
   ],
   "source": [
    "#####read in data from average expression values\n",
    "LVM2_all = []\n",
    "for i in range(5):\n",
    "    filenum = str(i+1)\n",
    "    filename = 'avg_values/M_LVM2_'+filenum+'.csv'\n",
    "    LVM2_all.append(pd.read_csv(filename,sep=',',index_col=0))\n",
    "#####create new matrix containing average of the other cluster values\n",
    "LVM2_anti = []\n",
    "for i in range(5):\n",
    "    tmp_avg = []\n",
    "    tmp_arr = []\n",
    "    for j in range(5):\n",
    "        if j != i :\n",
    "            tmp_arr.append(LVM2_all[j])\n",
    "    df_concat = pd.concat((tmp_arr[0],tmp_arr[1],tmp_arr[2],tmp_arr[3]))\n",
    "    by_row_index = df_concat.groupby(df_concat.index)\n",
    "    df_means = by_row_index.mean()\n",
    "        ######\n",
    "    tmp_avg = df_means\n",
    "    LVM2_anti.append(tmp_avg)\n",
    "#####calculate logFCs and pvalue\n",
    "LVM2_logfc = []\n",
    "###\n",
    "def calc_pval(gene_id,cluster):\n",
    "    tmp_exp = []\n",
    "    tmp_exp_cluster = []\n",
    "    for j in range(5):\n",
    "        if j == cluster:\n",
    "            tmp_exp_cluster.append(LVM2_all[j].loc[gene_id]['x'])\n",
    "        else:\n",
    "            tmp_exp.append(LVM2_all[j].loc[gene_id]['x'])\n",
    "    results_ttest = stats.ttest_1samp(tmp_exp,tmp_exp_cluster)\n",
    "    return(results_ttest[1][0])\n",
    "###\n",
    "for i in range(5):\n",
    "    cluster = LVM2_all[i].sort_index()\n",
    "    all_clusters = LVM2_anti[i].sort_index()\n",
    "    tmp = np.log2(cluster/all_clusters)\n",
    "    #######sort values \n",
    "    tmp.sort_values(by=['x'],inplace=True)\n",
    "    #######add expression values\n",
    "    tmp['reads'] = cluster['x']\n",
    "    tmp['avg_other_reads'] = all_clusters['x']\n",
    "    ######remove inf and -inf values and NaNs\n",
    "#     tmp = tmp[tmp['x'] != float('Inf')]\n",
    "#     tmp = tmp[tmp['x'] != float('-Inf')]\n",
    "#     tmp = tmp.dropna()\n",
    "    ######calculate p value\n",
    "    tmp['pval'] = tmp.apply(lambda row: calc_pval(row.name,i),axis=1)\n",
    "    ######\n",
    "    LVM2_logfc.append(tmp)\n",
    "#####calculate pvalue\n",
    "# LVM2_log"
   ]
  },
  {
   "cell_type": "code",
   "execution_count": 3,
   "metadata": {
    "collapsed": true
   },
   "outputs": [],
   "source": [
    "########save cluster defining genes\n",
    "for i in range(5):\n",
    "    filenum = i+1\n",
    "    filename = 'cluster_uniques/LVM2_'+str(filenum)+'log2fc.txt'\n",
    "    LVM2_logfc[i].to_csv(filename,sep='\\t')"
   ]
  },
  {
   "cell_type": "markdown",
   "metadata": {},
   "source": [
    "# Determine which genes to go after"
   ]
  },
  {
   "cell_type": "code",
   "execution_count": 4,
   "metadata": {},
   "outputs": [
    {
     "name": "stderr",
     "output_type": "stream",
     "text": [
      "/home/johnny/anaconda2/lib/python2.7/site-packages/ipykernel_launcher.py:3: RuntimeWarning: divide by zero encountered in log\n",
      "  This is separate from the ipykernel package so we can avoid doing imports until\n"
     ]
    },
    {
     "data": {
      "image/png": "[encoded data removed]",
      "text/plain": [
       "<matplotlib.figure.Figure at 0x7f616bad5c50>"
      ]
     },
     "metadata": {},
     "output_type": "display_data"
    }
   ],
   "source": [
    "%matplotlib inline\n",
    "######visualize spread of gene expression values\n",
    "hist1 = plt.hist(np.log(LVM2_all[0]['x']),range=[-5,5],bins=100)\n",
    "\n",
    "########log10 counts"
   ]
  },
  {
   "cell_type": "code",
   "execution_count": 5,
   "metadata": {},
   "outputs": [
    {
     "data": {
      "image/png": "[encoded data removed]",
      "text/plain": [
       "<matplotlib.figure.Figure at 0x7f616b22cd10>"
      ]
     },
     "metadata": {},
     "output_type": "display_data"
    }
   ],
   "source": [
    "%matplotlib inline\n",
    "######visualize spread of gene expression values\n",
    "hist2 = plt.hist(LVM2_all[0]['x'],range=[0,5],bins=100)\n",
    "\n",
    "#########read counts"
   ]
  },
  {
   "cell_type": "markdown",
   "metadata": {},
   "source": [
    "#### seems like 0.1 is mean of distribution of reads, 1sd is about 10 fold; so genes higher than 0.1 can be considered mid to highly expressed genes"
   ]
  },
  {
   "cell_type": "code",
   "execution_count": 14,
   "metadata": {},
   "outputs": [
    {
     "name": "stdout",
     "output_type": "stream",
     "text": [
      "('cluster', 1)\n",
      "('UP_GENES',                         x     reads  avg_other_reads      pval gene_name\n",
      "ENSG00000163485  1.271584  0.102129         0.042302  0.005427    ADORA1\n",
      "ENSG00000076351  1.281286  0.107240         0.044122  0.001485   SLC46A1\n",
      "ENSG00000174233  1.077797  0.134158         0.063558  0.020249     ADCY6\n",
      "ENSG00000108947  1.044520  0.147438         0.071479  0.042848     EFNB3)\n",
      "('DOWN_GENES', Empty DataFrame\n",
      "Columns: [x, reads, avg_other_reads, pval, gene_name]\n",
      "Index: [])\n"
     ]
    },
    {
     "name": "stderr",
     "output_type": "stream",
     "text": [
      "/home/johnny/anaconda2/lib/python2.7/site-packages/ipykernel_launcher.py:34: SettingWithCopyWarning: \n",
      "A value is trying to be set on a copy of a slice from a DataFrame\n",
      "\n",
      "See the caveats in the documentation: http://pandas.pydata.org/pandas-docs/stable/indexing.html#indexing-view-versus-copy\n"
     ]
    },
    {
     "name": "stdout",
     "output_type": "stream",
     "text": [
      "('cluster', 2)\n",
      "('UP_GENES',                         x     reads  avg_other_reads      pval gene_name\n",
      "ENSG00000166106  1.055411  0.106347         0.051170  0.005399  ADAMTS15\n",
      "ENSG00000112149  1.381972  0.128486         0.049299  0.002840      CD83\n",
      "ENSG00000156453  1.127039  0.136459         0.062478  0.023699     PCDH1\n",
      "ENSG00000130513  1.377039  0.158151         0.060890  0.000376     GDF15\n",
      "ENSG00000174607  1.187432  0.210445         0.092403  0.008222      UGT8\n",
      "ENSG00000134802  1.574958  0.237706         0.079787  0.013146   SLC43A3\n",
      "ENSG00000091490  1.304932  0.246236         0.099662  0.004749    SEL1L3\n",
      "ENSG00000115902  1.115320  0.344009         0.158791  0.013790    SLC1A4\n",
      "ENSG00000171105  1.149935  0.568218         0.256065  0.013372      INSR\n",
      "ENSG00000143153  1.001302  0.812160         0.405714  0.024607    ATP1B1\n",
      "ENSG00000173540  1.081799  0.930601         0.439653  0.016512     GMPPB\n",
      "ENSG00000184992  1.073620  1.548241         0.735608  0.013233    BRI3BP)\n",
      "('DOWN_GENES', Empty DataFrame\n",
      "Columns: [x, reads, avg_other_reads, pval, gene_name]\n",
      "Index: [])\n",
      "('cluster', 3)\n",
      "('UP_GENES',                         x      reads  avg_other_reads      pval gene_name\n",
      "ENSG00000108821  1.374449   0.100020         0.038578  0.019194    COL1A1\n",
      "ENSG00000106537  1.048706   0.149742         0.072385  0.011885   TSPAN13\n",
      "ENSG00000125726  1.157428   0.292445         0.131106  0.006926      CD70\n",
      "ENSG00000005206  1.253629   0.363439         0.152424  0.003679    SPPL2B\n",
      "ENSG00000026103  1.281406   0.400000         0.164558  0.002361       FAS\n",
      "ENSG00000171302  1.880118   1.070358         0.290775  0.000190     CANT1\n",
      "ENSG00000051825  1.181532   1.221630         0.538596  0.011254  MPHOSPH9\n",
      "ENSG00000166833  1.121736   1.379066         0.633736  0.000056      NAV2\n",
      "ENSG00000196230  1.004038  16.530815         8.242307  0.014146      TUBB)\n",
      "('DOWN_GENES', Empty DataFrame\n",
      "Columns: [x, reads, avg_other_reads, pval, gene_name]\n",
      "Index: [])\n",
      "('cluster', 4)\n",
      "('UP_GENES',                         x     reads  avg_other_reads      pval gene_name\n",
      "ENSG00000165029  2.372128  0.101655         0.019636  0.000095     ABCA1\n",
      "ENSG00000168216  1.167666  0.117931         0.052496  0.000686    LMBRD1\n",
      "ENSG00000143127  2.228980  0.128391         0.027387  0.000043    ITGA10\n",
      "ENSG00000123454  2.759089  0.133218         0.019679  0.000038       DBH\n",
      "ENSG00000099219  1.196955  0.133839         0.058380  0.000806     ERMP1\n",
      "ENSG00000079385  1.804014  0.142989         0.040949  0.000202   CEACAM1\n",
      "ENSG00000124466  1.138184  0.176828         0.080338  0.001809     LYPD3\n",
      "ENSG00000164308  1.018246  0.193402         0.095486  0.006379     ERAP2\n",
      "ENSG00000149577  1.630120  0.204897         0.066194  0.002821     SIDT2\n",
      "ENSG00000123384  1.287938  0.261885         0.107251  0.001888      LRP1\n",
      "ENSG00000154639  1.347744  0.375839         0.147669  0.000785     CXADR\n",
      "ENSG00000129667  1.352219  0.394920         0.154686  0.004392    RHBDF2\n",
      "ENSG00000182667  1.636639  0.546713         0.175825  0.002366       NTM\n",
      "ENSG00000163328  1.018411  0.607517         0.299907  0.002630    GPR155\n",
      "ENSG00000149573  1.163057  1.054943         0.471101  0.001160     MPZL2)\n",
      "('DOWN_GENES',                         x      reads  avg_other_reads      pval gene_name\n",
      "ENSG00000101187 -1.047388   0.108115         0.223450  0.073570   SLCO4A1\n",
      "ENSG00000185344 -1.183620   0.132391         0.300720  0.033570  ATP6V0A2\n",
      "ENSG00000138031 -1.249739   0.140023         0.332972  0.060001     ADCY3\n",
      "ENSG00000134910 -1.130872   0.142598         0.312276  0.010629     STT3A\n",
      "ENSG00000151233 -1.285261   0.142690         0.347772  0.009113    GXYLT1\n",
      "ENSG00000180773 -1.153379   0.167494         0.372565  0.020352   SLC36A4\n",
      "ENSG00000100258 -1.255406   0.178805         0.426868  0.029633      LMF2\n",
      "ENSG00000173540 -1.651468   0.198230         0.622746  0.037767     GMPPB\n",
      "ENSG00000107566 -1.137483   0.204713         0.450362  0.019906    ERLIN1\n",
      "ENSG00000161904 -1.052301   0.212276         0.440225  0.012348     LEMD2\n",
      "ENSG00000178202 -1.043163   0.247931         0.510922  0.037453    KDELC2\n",
      "ENSG00000143153 -1.110136   0.252736         0.545570  0.094250    ATP1B1\n",
      "ENSG00000051825 -1.409744   0.290345         0.771417  0.070614  MPHOSPH9\n",
      "ENSG00000184992 -1.767938   0.307103         1.045893  0.025016    BRI3BP\n",
      "ENSG00000171067 -1.490665   0.310759         0.873289  0.000020  C11orf24\n",
      "ENSG00000130164 -1.087118   0.360644         0.766185  0.044995      LDLR\n",
      "ENSG00000184164 -1.289935   0.380552         0.930514  0.014543    CRELD2\n",
      "ENSG00000176463 -1.419514   0.524506         1.403028  0.020538   SLCO3A1\n",
      "ENSG00000049656 -1.076112   1.296437         2.733339  0.001027   CLPTM1L\n",
      "ENSG00000176014 -1.386547   1.378299         3.603593  0.010159     TUBB6\n",
      "ENSG00000196230 -1.405841   4.267655        11.308097  0.037190      TUBB\n",
      "ENSG00000080824 -1.132829  10.760920        23.597443  0.015768  HSP90AA1\n",
      "ENSG00000108518 -1.035103  23.447126        48.049248  0.001712      PFN1\n",
      "ENSG00000075624 -1.010411  23.581655        47.504884  0.004824      ACTB)\n",
      "('cluster', 5)\n",
      "('UP_GENES',                         x     reads  avg_other_reads      pval gene_name\n",
      "ENSG00000101187  1.075165  0.345671         0.164061  0.003994   SLCO4A1)\n",
      "('DOWN_GENES',                         x     reads  avg_other_reads      pval gene_name\n",
      "ENSG00000185585 -1.050880  0.106472         0.220588  0.000222   OLFML2A\n",
      "ENSG00000171105 -1.764678  0.109134         0.370836  0.038220      INSR\n",
      "ENSG00000159164 -1.025384  0.114048         0.232144  0.013999      SV2A\n",
      "ENSG00000104870 -1.381610  0.118203         0.307990  0.024135     FCGRT\n",
      "ENSG00000161921 -1.009051  0.128723         0.259066  0.012939    CXCL16\n",
      "ENSG00000138031 -1.205452  0.143961         0.331988  0.065967     ADCY3\n",
      "ENSG00000105426 -1.100224  0.153355         0.328775  0.004274     PTPRS\n",
      "ENSG00000138744 -1.001886  0.177143         0.354749  0.003613      NAAA\n",
      "ENSG00000136802 -1.106461  0.208723         0.449415  0.040939    LRRC8A\n",
      "ENSG00000112759 -1.297505  0.215173         0.528903  0.010859   SLC29A1\n",
      "ENSG00000138131 -1.042290  0.226494         0.466462  0.009487     LOXL4\n",
      "ENSG00000143153 -1.147800  0.246883         0.547033  0.087375    ATP1B1\n",
      "ENSG00000087111 -1.018700  0.256840         0.520381  0.047653      PIGS\n",
      "ENSG00000146433 -1.003579  0.278290         0.557962  0.004788   TMEM181\n",
      "ENSG00000106460 -1.101666  0.289697         0.621697  0.007606  TMEM106B\n",
      "ENSG00000113441 -1.198066  0.313009         0.718141  0.006480     LNPEP\n",
      "ENSG00000146648 -1.123559  0.330974         0.721139  0.022309      EGFR\n",
      "ENSG00000173706 -1.067490  0.367229         0.769634  0.012640      HEG1\n",
      "ENSG00000150687 -1.273711  0.472532         1.142501  0.015748    PRSS23)\n"
     ]
    }
   ],
   "source": [
    "########import cell surface proteome derived from here:\n",
    "########http://wlab.ethz.ch/cspa/#abstract\n",
    "proteome = pd.read_csv('human_cellsurface_proteome_ETHzurich.db.csv',sep=',')\n",
    "########import ensembl conversion dictionary from biomart hg38\n",
    "conversion_db = pd.read_csv('human_ensembl_names_conversion.db.txt',sep='\\t',index_col=0)\n",
    "conversion_db = conversion_db[['Gene name']]\n",
    "#####create dict and convert\n",
    "conversion_db = conversion_db.to_dict()['Gene name']\n",
    "###\n",
    "def convert_genename(ensg_id,conversion_db):\n",
    "    if ensg_id in conversion_db:\n",
    "        return conversion_db[ensg_id]\n",
    "###\n",
    "for i in range(5):\n",
    "    LVM2_logfc[i]['gene_name'] = LVM2_logfc[i].apply(lambda row: convert_genename(row.name, conversion_db),axis=1)\n",
    "#########match to cell surface proteome\n",
    "proteome_db = proteome['ENTREZ gene symbol'].tolist()\n",
    "###\n",
    "def is_cellsurface(gene_name,proteome_db):\n",
    "    if gene_name in proteome_db:\n",
    "        return True\n",
    "    else:\n",
    "        return False\n",
    "###define variables\n",
    "pval_cutoff = 0.1\n",
    "log2fc_cutoff = 1.0\n",
    "reads_cutoff = 0.1\n",
    "###\n",
    "for i in range(5):\n",
    "    LVM2_logfc[i]['cell_surface'] = LVM2_logfc[i].apply(lambda row: is_cellsurface(row['gene_name'],proteome_db),axis=1)\n",
    "    ###print number of cell surface in each cluster\n",
    "    print(\"cluster\",i+1)\n",
    "    tmp = LVM2_logfc[i][LVM2_logfc[i]['cell_surface']==True]\n",
    "    tmp.drop(['cell_surface'],axis=1,inplace=True)\n",
    "    tmp = tmp[tmp['pval'] <= pval_cutoff]\n",
    "    tmp = tmp[tmp['reads'] >= reads_cutoff]\n",
    "    tmp.sort_values(by=['reads'],inplace=True)\n",
    "    tmp_hi = tmp[tmp['x']>=log2fc_cutoff]\n",
    "    tmp_lo = tmp[tmp['x']<=-log2fc_cutoff]\n",
    "    ####print to stdout\n",
    "    print('UP_GENES',tmp_hi)\n",
    "    print('DOWN_GENES',tmp_lo)\n",
    "    ####save to file\n",
    "    filenum = i+1\n",
    "    filename_hi = 'cluster_uniques/LVM2_'+str(filenum)+'_up_surface_proteins.txt'\n",
    "    filename_lo = 'cluster_uniques/LVM2_'+str(filenum)+'_dn_surface_proteins.txt'\n",
    "    tmp_hi.to_csv(filename_hi,sep='\\t')\n",
    "    tmp_lo.to_csv(filename_lo,sep='\\t')\n",
    "###"
   ]
  },
  {
   "cell_type": "code",
   "execution_count": 7,
   "metadata": {},
   "outputs": [
    {
     "name": "stdout",
     "output_type": "stream",
     "text": [
      "x    0.0\n",
      "Name: ENSG00000106278, dtype: float64\n",
      "x    0.002227\n",
      "Name: ENSG00000106278, dtype: float64\n",
      "x    0.001988\n",
      "Name: ENSG00000106278, dtype: float64\n",
      "x    0.002299\n",
      "Name: ENSG00000106278, dtype: float64\n",
      "x    0.0\n",
      "Name: ENSG00000106278, dtype: float64\n"
     ]
    }
   ],
   "source": [
    "for i in range(5):\n",
    "    print(LVM2_all[i].loc['ENSG00000106278'])"
   ]
  }
 ],
 "metadata": {
  "kernelspec": {
   "display_name": "Python 2",
   "language": "python",
   "name": "python2"
  },
  "language_info": {
   "codemirror_mode": {
    "name": "ipython",
    "version": 2
   },
   "file_extension": ".py",
   "mimetype": "text/x-python",
   "name": "python",
   "nbconvert_exporter": "python",
   "pygments_lexer": "ipython2",
   "version": "2.7.11"
  }
 },
 "nbformat": 4,
 "nbformat_minor": 2
}
